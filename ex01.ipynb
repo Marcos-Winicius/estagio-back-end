{
  "nbformat": 4,
  "nbformat_minor": 0,
  "metadata": {
    "colab": {
      "provenance": [],
      "authorship_tag": "ABX9TyMJrYmlkOWypzLcK/9cY8X0",
      "include_colab_link": true
    },
    "kernelspec": {
      "name": "python3",
      "display_name": "Python 3"
    },
    "language_info": {
      "name": "python"
    }
  },
  "cells": [
    {
      "cell_type": "markdown",
      "metadata": {
        "id": "view-in-github",
        "colab_type": "text"
      },
      "source": [
        "<a href=\"https://colab.research.google.com/github/Marcos-Winicius/estagio-back-end/blob/main/ex01.ipynb\" target=\"_parent\"><img src=\"https://colab.research.google.com/assets/colab-badge.svg\" alt=\"Open In Colab\"/></a>"
      ]
    },
    {
      "cell_type": "markdown",
      "source": [
        "1) Observe o trecho de código abaixo: int INDICE = 13, SOMA = 0, K = 0;\n",
        "Enquanto K < INDICE faça { K = K + 1; SOMA = SOMA + K; }\n",
        "Imprimir(SOMA);\n",
        "Ao final do processamento, qual será o valor da variável SOMA?\n",
        "\n",
        "**Resposta:** 91"
      ],
      "metadata": {
        "id": "GJEuydUBC9wr"
      }
    },
    {
      "cell_type": "code",
      "execution_count": 1,
      "metadata": {
        "colab": {
          "base_uri": "https://localhost:8080/"
        },
        "id": "fJcb4xHvC1K-",
        "outputId": "e33cbaa3-5ae8-4397-cd51-7b3f4b7d732c"
      },
      "outputs": [
        {
          "output_type": "stream",
          "name": "stdout",
          "text": [
            "91\n"
          ]
        }
      ],
      "source": [
        "INDICE = 13\n",
        "SOMA = 0\n",
        "K = 0;\n",
        "\n",
        "while K < INDICE:\n",
        "  K += 1\n",
        "  SOMA+=K\n",
        "print(SOMA);"
      ]
    },
    {
      "cell_type": "markdown",
      "source": [
        "2) Dado a sequência de Fibonacci, onde se inicia por 0 e 1 e o próximo valor sempre será a soma dos 2 valores anteriores (exemplo: 0, 1, 1, 2, 3, 5, 8, 13, 21, 34...), escreva um programa na linguagem que desejar onde, informado um número, ele calcule a sequência de Fibonacci e retorne uma mensagem avisando se o número informado pertence ou não a sequência.\n",
        "\n",
        "**IMPORTANTE:** Esse número pode ser informado através de qualquer entrada de sua preferência ou pode ser previamente definido no código;"
      ],
      "metadata": {
        "id": "qycFgRYgDuwj"
      }
    },
    {
      "cell_type": "code",
      "source": [
        "def isFibonacci(num):\n",
        "    a = 0\n",
        "    b = 1\n",
        "    if num == 0 or num == 1:\n",
        "        return True\n",
        "\n",
        "    while b <= num:\n",
        "        if b == num:\n",
        "            return True\n",
        "\n",
        "        temp = a\n",
        "        a = b\n",
        "        b = temp + b\n",
        "\n",
        "    return False\n",
        "\n",
        "# Entrada do usuário\n",
        "numero = int(input(\"Digite o número para ver se está na sequência de Fibonacci: \"))\n",
        "if isFibonacci(numero) == False:\n",
        "  print(f\"{numero} NÃO faz parte da sequência de Fibonacci\")\n",
        "else:\n",
        "  print(f\"{numero} faz parte da sequência de Fibonacci\")"
      ],
      "metadata": {
        "colab": {
          "base_uri": "https://localhost:8080/"
        },
        "id": "5j3rO-TvD8Of",
        "outputId": "a0c91fad-d851-4814-9f0b-5819a044fb26"
      },
      "execution_count": 14,
      "outputs": [
        {
          "output_type": "stream",
          "name": "stdout",
          "text": [
            "Digite o número para ver se está na sequência de Fibonacci: 13\n",
            "13 faz parte da sequência de Fibonacci\n"
          ]
        }
      ]
    },
    {
      "cell_type": "markdown",
      "source": [
        "3) Dado um vetor que guarda o valor de faturamento diário de uma distribuidora, faça um programa, na linguagem que desejar, que calcule e retorne:\n",
        "• O menor valor de faturamento ocorrido em um dia do mês;\n",
        "• O maior valor de faturamento ocorrido em um dia do mês;\n",
        "• Número de dias no mês em que o valor de faturamento diário foi superior à média mensal."
      ],
      "metadata": {
        "id": "-O_IYF-JHWr9"
      }
    },
    {
      "cell_type": "code",
      "source": [
        "import json\n",
        "\n",
        "# Abrindo e carregando os dados do arquivo dados.json\n",
        "with open('dados.json', 'r') as file:\n",
        "    dados = json.load(file)\n",
        "\n",
        "# Filtrando os dias em que o faturamento é maior que 0\n",
        "faturamentos = [dia['valor'] for dia in dados if dia['valor'] > 0]\n",
        "\n",
        "# Calculando\n",
        "menor_valor = min(faturamentos)\n",
        "maior_valor = max(faturamentos)\n",
        "media_mensal = sum(faturamentos) / len(faturamentos)\n",
        "dias_acima_da_media = sum(1 for valor in faturamentos if valor > media_mensal)\n",
        "\n",
        "# Resultados\n",
        "print(f\"Menor valor de faturamento: {menor_valor:.2f}\")\n",
        "print(f\"Maior valor de faturamento: {maior_valor:.2f}\")\n",
        "print(f\"Número de dias com faturamento acima da média: {dias_acima_da_media}\")"
      ],
      "metadata": {
        "colab": {
          "base_uri": "https://localhost:8080/"
        },
        "id": "nseGUeGKHa48",
        "outputId": "db96dc90-d0b0-47d3-f248-d7da7194efe9"
      },
      "execution_count": 17,
      "outputs": [
        {
          "output_type": "stream",
          "name": "stdout",
          "text": [
            "Menor valor de faturamento: 373.78\n",
            "Maior valor de faturamento: 48924.24\n",
            "Número de dias com faturamento acima da média: 10\n"
          ]
        }
      ]
    },
    {
      "cell_type": "markdown",
      "source": [
        "4) Dado o valor de faturamento mensal de uma distribuidora, detalhado por estado:\n",
        "\n",
        "*   SP – R$67.836,43\n",
        "\n",
        "*   RJ – R$36.678,66\n",
        "\n",
        "*   MG – R$29.229,88\n",
        "\n",
        "*   ES – R$27.165,48\n",
        "\n",
        "*   Outros – R$19.849,53\n",
        "\n",
        "\n",
        "Escreva um programa na linguagem que desejar onde calcule o percentual de representação que cada estado teve dentro do valor total mensal da distribuidora."
      ],
      "metadata": {
        "id": "4NIlk7IEJpDf"
      }
    },
    {
      "cell_type": "code",
      "source": [
        "faturamento_estados = {\n",
        "    \"SP\": 67836.43,\n",
        "    \"RJ\": 36678.66,\n",
        "    \"MG\": 29229.88,\n",
        "    \"ES\": 27165.48,\n",
        "    \"Outros\": 19849.53\n",
        "}\n",
        "\n",
        "# Calculando o faturamento total\n",
        "faturamento_total = sum(faturamento_estados.values())\n",
        "\n",
        "# Exibindo percentual de cada estado\n",
        "for estado, valor in faturamento_estados.items():\n",
        "    percentual = (valor / faturamento_total) * 100\n",
        "    print(f\"{estado}: {percentual:.2f}% de representação no faturamento total\")"
      ],
      "metadata": {
        "colab": {
          "base_uri": "https://localhost:8080/"
        },
        "id": "_7iBNAr8J8TQ",
        "outputId": "8586f9f1-9cda-45ad-979e-da2f7d747e5a"
      },
      "execution_count": 18,
      "outputs": [
        {
          "output_type": "stream",
          "name": "stdout",
          "text": [
            "SP: 37.53% de representação no faturamento total\n",
            "RJ: 20.29% de representação no faturamento total\n",
            "MG: 16.17% de representação no faturamento total\n",
            "ES: 15.03% de representação no faturamento total\n",
            "Outros: 10.98% de representação no faturamento total\n"
          ]
        }
      ]
    },
    {
      "cell_type": "markdown",
      "source": [
        "5) Escreva um programa que inverta os caracteres de um string.\n",
        "\n",
        "IMPORTANTE:\n",
        "a) Essa string pode ser informada através de qualquer entrada de sua preferência ou pode ser previamente definida no código;\n",
        "b) Evite usar funções prontas, como, por exemplo, reverse;"
      ],
      "metadata": {
        "id": "G-hKPTVuKtw5"
      }
    },
    {
      "cell_type": "code",
      "source": [
        "palavra = input(\"digite uma palavra para eu reverter: \")\n",
        "palavra_invertida = \"\"\n",
        "for c in range(len(palavra), 0, -1):\n",
        "  palavra_invertida += palavra[c - 1]\n",
        "print(palavra_invertida)"
      ],
      "metadata": {
        "colab": {
          "base_uri": "https://localhost:8080/"
        },
        "id": "CpdK0ClJKzTe",
        "outputId": "e96f8ad4-ec58-419d-9ded-f48342015c35"
      },
      "execution_count": 29,
      "outputs": [
        {
          "output_type": "stream",
          "name": "stdout",
          "text": [
            "digite uma palavra para eu reverter: testando\n",
            "odnatset\n"
          ]
        }
      ]
    }
  ]
}